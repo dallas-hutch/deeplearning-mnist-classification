{
 "cells": [
  {
   "cell_type": "markdown",
   "metadata": {},
   "source": [
    "# Lab 1: Deep Neural Network\n",
    "\n",
    "## Author: Dallas Hutchinson\n",
    "\n",
    "##### in collaboration with: Sam Hickey"
   ]
  },
  {
   "cell_type": "markdown",
   "metadata": {},
   "source": [
    "## Problem 1:\n",
    "\n",
    "### Approximate the following function:\n",
    "$\\Large f ( x ) = 3x^2 + 4x - 9 $\n"
   ]
  },
  {
   "cell_type": "markdown",
   "metadata": {
    "tags": []
   },
   "source": [
    "### Steps:\n",
    "1. Randomly generate the data. Generate at least 10,000 values for $x \\in [-100,100]$\n",
    "2. Plot the function\n",
    "3. Design a feed-forward network with 2 or more hidden layers. Choose the # of hidden units in each layer (what are the size of input and output layers?)\n",
    "4. Train the model (What loss function will be suitable here?)\n",
    "5. Generate a test data and present the test accuracy"
   ]
  },
  {
   "cell_type": "code",
   "execution_count": 1,
   "metadata": {},
   "outputs": [
    {
     "name": "stdout",
     "output_type": "stream",
     "text": [
      "Using cuda device\n"
     ]
    }
   ],
   "source": [
    "import matplotlib.pyplot as plt\n",
    "import numpy as np\n",
    "import torch\n",
    "import torch.nn as nn\n",
    "from torch.utils.data import TensorDataset, DataLoader\n",
    "import pandas as pd\n",
    "\n",
    "device = \"cuda\" if torch.cuda.is_available() else \"cpu\"\n",
    "print(f\"Using {device} device\")"
   ]
  },
  {
   "cell_type": "code",
   "execution_count": 2,
   "metadata": {},
   "outputs": [
    {
     "data": {
      "image/png": "[encoded data removed]",
      "text/plain": [
       "<Figure size 432x288 with 1 Axes>"
      ]
     },
     "metadata": {
      "needs_background": "light"
     },
     "output_type": "display_data"
    }
   ],
   "source": [
    "# 1. Randomly generate 10,000 data points for 𝑥 ∈ [−100,100]\n",
    "def f(x):\n",
    "    return (3*(x**2)) + (4*x) - 9\n",
    "\n",
    "train_x = torch.FloatTensor(10000).uniform_(-100, 101)\n",
    "train_y = torch.FloatTensor([f(x) for x in train_x])\n",
    "train_dataloader = DataLoader(\n",
    "    TensorDataset(train_x.unsqueeze(1), train_y.unsqueeze(1)),\n",
    "    batch_size=100,\n",
    "    pin_memory=True,\n",
    "    shuffle=True\n",
    ")\n",
    "\n",
    "test_x = torch.FloatTensor(5000).uniform_(-100, 101)\n",
    "test_y = torch.FloatTensor([f(x) for x in test_x])\n",
    "test_dataloader = DataLoader(\n",
    "    TensorDataset(test_x.unsqueeze(1), test_y.unsqueeze(1)),\n",
    "    batch_size=100,\n",
    "    pin_memory=True,\n",
    "    shuffle=True\n",
    ")\n",
    "\n",
    "# 2. Plot the function\n",
    "\n",
    "x = np.linspace(-100, 100, 10000)\n",
    "plt.plot(x, f(x), 'r')\n",
    "plt.show()"
   ]
  },
  {
   "cell_type": "code",
   "execution_count": 3,
   "metadata": {},
   "outputs": [
    {
     "name": "stdout",
     "output_type": "stream",
     "text": [
      "epoch 1 / 25\n",
      "\ttrain loss: 6329.11621\n",
      "\tval loss: 3375.54932\n",
      "epoch 2 / 25\n",
      "\ttrain loss: 3382.80005\n",
      "\tval loss: 3327.96069\n",
      "epoch 3 / 25\n",
      "\ttrain loss: 3318.50439\n",
      "\tval loss: 3246.96118\n",
      "epoch 4 / 25\n",
      "\ttrain loss: 3244.31934\n",
      "\tval loss: 3170.93848\n",
      "epoch 5 / 25\n",
      "\ttrain loss: 3158.00366\n",
      "\tval loss: 3079.92310\n",
      "epoch 6 / 25\n",
      "\ttrain loss: 3024.71338\n",
      "\tval loss: 2907.08667\n",
      "epoch 7 / 25\n",
      "\ttrain loss: 2805.51245\n",
      "\tval loss: 2601.75879\n",
      "epoch 8 / 25\n",
      "\ttrain loss: 2374.80640\n",
      "\tval loss: 1960.87610\n",
      "epoch 9 / 25\n",
      "\ttrain loss: 1367.96924\n",
      "\tval loss: 855.70642\n",
      "epoch 10 / 25\n",
      "\ttrain loss: 510.19284\n",
      "\tval loss: 512.31665\n",
      "epoch 11 / 25\n",
      "\ttrain loss: 363.16367\n",
      "\tval loss: 144.42563\n",
      "epoch 12 / 25\n",
      "\ttrain loss: 237.38136\n",
      "\tval loss: 398.18616\n",
      "epoch 13 / 25\n",
      "\ttrain loss: 230.75969\n",
      "\tval loss: 216.98373\n",
      "epoch 14 / 25\n",
      "\ttrain loss: 199.98764\n",
      "\tval loss: 105.43235\n",
      "epoch 15 / 25\n",
      "\ttrain loss: 174.61516\n",
      "\tval loss: 113.73731\n",
      "epoch 16 / 25\n",
      "\ttrain loss: 159.19525\n",
      "\tval loss: 482.95959\n",
      "epoch 17 / 25\n",
      "\ttrain loss: 140.55940\n",
      "\tval loss: 101.02122\n",
      "epoch 18 / 25\n",
      "\ttrain loss: 178.77437\n",
      "\tval loss: 251.71559\n",
      "epoch 19 / 25\n",
      "\ttrain loss: 176.99533\n",
      "\tval loss: 161.73091\n",
      "epoch 20 / 25\n",
      "\ttrain loss: 143.91109\n",
      "\tval loss: 84.33289\n",
      "epoch 21 / 25\n",
      "\ttrain loss: 170.12491\n",
      "\tval loss: 271.83389\n",
      "epoch 22 / 25\n",
      "\ttrain loss: 138.74625\n",
      "\tval loss: 142.50262\n",
      "epoch 23 / 25\n",
      "\ttrain loss: 148.97725\n",
      "\tval loss: 211.09174\n",
      "epoch 24 / 25\n",
      "\ttrain loss: 124.42185\n",
      "\tval loss: 173.07402\n",
      "epoch 25 / 25\n",
      "\ttrain loss: 193.60046\n",
      "\tval loss: 198.68372\n"
     ]
    }
   ],
   "source": [
    "# 3. Design a feed-forward network with 2 or more hidden layers. Choose the # of hidden units in each layer (what are the size of input and output layers?)\n",
    "\n",
    "num_epochs = 25\n",
    "batch_size = 512\n",
    "learning_rate = 0.005\n",
    "hidden_size = 64\n",
    "\n",
    "model = nn.Sequential(nn.Linear(1, hidden_size),\n",
    "                        nn.ReLU(),\n",
    "                        nn.Linear(hidden_size, hidden_size),\n",
    "                        nn.ReLU(),\n",
    "                        nn.Linear(hidden_size, hidden_size),\n",
    "                        nn.ReLU(),\n",
    "                        nn.Linear(hidden_size, 1))\n",
    "\n",
    "criterion = nn.MSELoss(reduction=\"mean\")\n",
    "optimizer = torch.optim.Adam(model.parameters(), lr=learning_rate)\n",
    "\n",
    "# 4. Train the model (What loss function will be suitable here?)\n",
    "# RMSE loss function will be suitable due to the continuous nature of the data\n",
    "\n",
    "train_loss_list = list()\n",
    "val_loss_list = list()\n",
    "for epoch in range(num_epochs):\n",
    "    print(\"epoch %d / %d\" % (epoch+1, num_epochs))\n",
    "    model.train()\n",
    "    \n",
    "    # training loop\n",
    "    temp_loss_list = list()\n",
    "    for X_train, y_train in train_dataloader:\n",
    "        X_train = X_train.type(torch.float32)\n",
    "        y_train = y_train.type(torch.float32)\n",
    "\n",
    "        optimizer.zero_grad()\n",
    "\n",
    "        score = model(X_train)\n",
    "        loss = torch.sqrt(criterion(input=score, target=y_train))\n",
    "        loss.backward()\n",
    "\n",
    "        optimizer.step()\n",
    "\n",
    "        temp_loss_list.append(loss.detach().numpy())\n",
    "        \n",
    "    train_loss_list.append(np.average(temp_loss_list))\n",
    "    \n",
    "# 5. Generate a test data and present the test accuracy\n",
    "\n",
    "    model.eval()\n",
    "    \n",
    "    temp_loss_list = list()\n",
    "    for X_val, y_val in test_dataloader:\n",
    "        X_val = X_val.type(torch.float32)\n",
    "        y_val = y_val.type(torch.float32)\n",
    "\n",
    "        score = model(X_val)\n",
    "        loss = torch.sqrt(criterion(input=score, target=y_val))\n",
    "\n",
    "        temp_loss_list.append(loss.detach().numpy())\n",
    "    \n",
    "    val_loss_list.append(np.average(temp_loss_list))\n",
    "\n",
    "    print(\"\\ttrain loss: %.5f\" % train_loss_list[-1])\n",
    "    print(\"\\tval loss: %.5f\" % val_loss_list[-1])"
   ]
  },
  {
   "cell_type": "markdown",
   "metadata": {},
   "source": [
    "### Here we can see training and test loss decreasing as epochs increase. More epochs would most likely lead to lower loss."
   ]
  },
  {
   "cell_type": "markdown",
   "metadata": {},
   "source": [
    "## Problem 2:\n",
    "\n",
    "### Feedforward Network\n",
    "- Hidden layer 1\n",
    "- Input size 784 [28X28] image\n",
    "- Hidden layer units 500\n",
    "- Output size 10\n",
    "- Other Hyperparameters:\n",
    " - num_epochs = 5\n",
    " - batch_size = 100\n",
    " - learning_rate = 0.001\n",
    "\n",
    "### Try out different regularization and optimization techniques and vary the corresponding hyperparameters\n",
    "- Hidden layers/units per layer\n",
    "- L2 regularization\n",
    "- Dropout\n",
    "- RMSProp\n",
    "- Adam\n",
    "- Minibatches\n",
    "\n",
    "### Tabulate your findings"
   ]
  },
  {
   "cell_type": "code",
   "execution_count": 4,
   "metadata": {},
   "outputs": [],
   "source": [
    "import torchvision\n",
    "import torchvision.transforms as transforms\n",
    "from ipywidgets import FloatProgress"
   ]
  },
  {
   "cell_type": "code",
   "execution_count": 5,
   "metadata": {},
   "outputs": [],
   "source": [
    "input_size = 784\n",
    "hidden_size = 500\n",
    "num_classes = 10\n",
    "num_epochs = 5\n",
    "batch_size = 100\n",
    "learning_rate = 0.001"
   ]
  },
  {
   "cell_type": "markdown",
   "metadata": {},
   "source": [
    "### Defining the network"
   ]
  },
  {
   "cell_type": "code",
   "execution_count": 6,
   "metadata": {},
   "outputs": [],
   "source": [
    "class NeuralNet(nn.Module):\n",
    "    def __init__(self, input_size, hidden_size, num_classes):\n",
    "        super(NeuralNet, self).__init__()\n",
    "        self.fc1 = nn.Linear(input_size, hidden_size)\n",
    "        ## nn.BatchNorm1d(hidden_size) ## [Optional batch normalization]\n",
    "        ## nn.Dropout(0.2) ## [Optional dropout]\n",
    "        #self.sigmoid = nn.Sigmoid()\n",
    "        self.relu = nn.ReLU()\n",
    "        self.fc2 = nn.Linear(hidden_size, num_classes)\n",
    "        self.output = nn.Softmax(dim=1)  # nn.Linear if y is real-valued\n",
    "        self.float()\n",
    "        \n",
    "    def forward(self, x):\n",
    "        out = self.fc1(x)\n",
    "        out = self.relu(out)\n",
    "        out = self.fc2(out)\n",
    "        out = self.output(out)\n",
    "        return out"
   ]
  },
  {
   "cell_type": "markdown",
   "metadata": {},
   "source": [
    "### Loading the datasets"
   ]
  },
  {
   "cell_type": "markdown",
   "metadata": {},
   "source": [
    "<i> \n",
    "#### Note: If the following code does not work, do the following:\n",
    "- open a terminal and enter\n",
    "- pip install ipywidgets\n",
    "- jupyter nbextension enable --py widgetsnbextension\n",
    "\n",
    "#### If the second line shows [OK], it should work </i>"
   ]
  },
  {
   "cell_type": "code",
   "execution_count": 7,
   "metadata": {},
   "outputs": [
    {
     "name": "stderr",
     "output_type": "stream",
     "text": [
      "/usr/local/lib/python3.8/dist-packages/torchvision/datasets/mnist.py:498: UserWarning: The given NumPy array is not writeable, and PyTorch does not support non-writeable tensors. This means you can write to the underlying (supposedly non-writeable) NumPy array using the tensor. You may want to copy the array to protect its data or make it writeable before converting it to a tensor. This type of warning will be suppressed for the rest of this program. (Triggered internally at  ../torch/csrc/utils/tensor_numpy.cpp:180.)\n",
      "  return torch.from_numpy(parsed.astype(m[2], copy=False)).view(*s)\n"
     ]
    }
   ],
   "source": [
    "train_dataset = torchvision.datasets.MNIST(root='data', \n",
    "                                           train=True, \n",
    "                                           transform=transforms.ToTensor(),download=True)\n",
    "\n",
    "train_loader = torch.utils.data.DataLoader(dataset=train_dataset, \n",
    "                                           batch_size=batch_size, shuffle=True)"
   ]
  },
  {
   "cell_type": "code",
   "execution_count": 8,
   "metadata": {},
   "outputs": [],
   "source": [
    "test_dataset = torchvision.datasets.MNIST(root='data', \n",
    "                                           train=False, \n",
    "                                           transform=transforms.ToTensor(),download=True)\n",
    "\n",
    "test_loader = torch.utils.data.DataLoader(dataset=test_dataset, \n",
    "                                           batch_size=batch_size, shuffle=True)"
   ]
  },
  {
   "cell_type": "markdown",
   "metadata": {},
   "source": [
    "##### Display samples"
   ]
  },
  {
   "cell_type": "code",
   "execution_count": 9,
   "metadata": {},
   "outputs": [
    {
     "name": "stdout",
     "output_type": "stream",
     "text": [
      "4\n"
     ]
    },
    {
     "data": {
      "image/png": "[encoded data removed]",
      "text/plain": [
       "<Figure size 432x288 with 1 Axes>"
      ]
     },
     "metadata": {
      "needs_background": "light"
     },
     "output_type": "display_data"
    }
   ],
   "source": [
    "import matplotlib.pyplot as plt\n",
    "\n",
    "for images, labels in train_loader:\n",
    "    print(labels[0].item())\n",
    " \n",
    "    plt.imshow(images[0].reshape((28,28)))\n",
    "    break"
   ]
  },
  {
   "cell_type": "code",
   "execution_count": 10,
   "metadata": {},
   "outputs": [],
   "source": [
    "model = NeuralNet(input_size, hidden_size, num_classes)"
   ]
  },
  {
   "cell_type": "code",
   "execution_count": 11,
   "metadata": {},
   "outputs": [
    {
     "name": "stdout",
     "output_type": "stream",
     "text": [
      "torch.Size([500, 784])\n",
      "True\n",
      "torch.Size([500])\n",
      "True\n",
      "torch.Size([10, 500])\n",
      "True\n",
      "torch.Size([10])\n",
      "True\n"
     ]
    }
   ],
   "source": [
    "for parameter in model.parameters():\n",
    "    print(parameter.shape)\n",
    "    print(parameter.requires_grad)"
   ]
  },
  {
   "cell_type": "code",
   "execution_count": 12,
   "metadata": {},
   "outputs": [],
   "source": [
    "#criterion = nn.NLLLoss() # another loss function to test\n",
    "criterion = nn.CrossEntropyLoss()\n",
    "optimizer = torch.optim.Adam(model.parameters(), lr=learning_rate) "
   ]
  },
  {
   "cell_type": "markdown",
   "metadata": {},
   "source": [
    "### Train the model"
   ]
  },
  {
   "cell_type": "code",
   "execution_count": 13,
   "metadata": {},
   "outputs": [
    {
     "name": "stdout",
     "output_type": "stream",
     "text": [
      "Epoch [1/5], Step [100/600], Loss: 1.5696\n",
      "Epoch [1/5], Step [200/600], Loss: 1.5611\n",
      "Epoch [1/5], Step [300/600], Loss: 1.5903\n",
      "Epoch [1/5], Step [400/600], Loss: 1.5690\n",
      "Epoch [1/5], Step [500/600], Loss: 1.5219\n",
      "Epoch [1/5], Step [600/600], Loss: 1.6052\n",
      "Epoch [2/5], Step [100/600], Loss: 1.5185\n",
      "Epoch [2/5], Step [200/600], Loss: 1.5180\n",
      "Epoch [2/5], Step [300/600], Loss: 1.5208\n",
      "Epoch [2/5], Step [400/600], Loss: 1.4807\n",
      "Epoch [2/5], Step [500/600], Loss: 1.4644\n",
      "Epoch [2/5], Step [600/600], Loss: 1.5214\n",
      "Epoch [3/5], Step [100/600], Loss: 1.5146\n",
      "Epoch [3/5], Step [200/600], Loss: 1.5089\n",
      "Epoch [3/5], Step [300/600], Loss: 1.4886\n",
      "Epoch [3/5], Step [400/600], Loss: 1.5243\n",
      "Epoch [3/5], Step [500/600], Loss: 1.5306\n",
      "Epoch [3/5], Step [600/600], Loss: 1.4624\n",
      "Epoch [4/5], Step [100/600], Loss: 1.4886\n",
      "Epoch [4/5], Step [200/600], Loss: 1.4704\n",
      "Epoch [4/5], Step [300/600], Loss: 1.5143\n",
      "Epoch [4/5], Step [400/600], Loss: 1.4776\n",
      "Epoch [4/5], Step [500/600], Loss: 1.4891\n",
      "Epoch [4/5], Step [600/600], Loss: 1.5011\n",
      "Epoch [5/5], Step [100/600], Loss: 1.4921\n",
      "Epoch [5/5], Step [200/600], Loss: 1.5075\n",
      "Epoch [5/5], Step [300/600], Loss: 1.4757\n",
      "Epoch [5/5], Step [400/600], Loss: 1.4880\n",
      "Epoch [5/5], Step [500/600], Loss: 1.4887\n",
      "Epoch [5/5], Step [600/600], Loss: 1.4903\n"
     ]
    }
   ],
   "source": [
    "total_step = len(train_loader)\n",
    "loss_history = []\n",
    "\n",
    "for epoch in range(num_epochs):\n",
    "    for i, (images, labels) in enumerate(train_loader):  \n",
    "        # Reconfigure the images into a 1D vector (actually, (X,1) tensor)\n",
    "        images = images.view(images.shape[0], -1)\n",
    "        \n",
    "        # Forward pass\n",
    "        ### Comput the output and loss\n",
    "        outputs = model(images)\n",
    "        \n",
    "        loss = criterion(outputs, labels)\n",
    "        \n",
    "        # Append to loss history\n",
    "        loss_history.append(loss.item())\n",
    "        \n",
    "        # Backward and optimize\n",
    "        optimizer.zero_grad()\n",
    "        loss.backward()\n",
    "        optimizer.step()\n",
    "        \n",
    "        # display the progress\n",
    "        if (i+1) % 100 == 0:\n",
    "            print ('Epoch [{}/{}], Step [{}/{}], Loss: {:.4f}' .format(epoch+1, num_epochs, i+1, total_step, loss.item()))\n",
    "        "
   ]
  },
  {
   "cell_type": "code",
   "execution_count": 14,
   "metadata": {},
   "outputs": [
    {
     "data": {
      "image/png": "[encoded data removed]",
      "text/plain": [
       "<Figure size 432x288 with 1 Axes>"
      ]
     },
     "metadata": {
      "needs_background": "light"
     },
     "output_type": "display_data"
    }
   ],
   "source": [
    "plt.plot(loss_history)\n",
    "plt.ylabel(\"Cost\")\n",
    "plt.xlabel(\"Iterations\")\n",
    "plt.show()"
   ]
  },
  {
   "cell_type": "code",
   "execution_count": 15,
   "metadata": {},
   "outputs": [
    {
     "name": "stdout",
     "output_type": "stream",
     "text": [
      "Number Of Images Tested = 10000\n",
      "Model Accuracy = 0.9721\n"
     ]
    }
   ],
   "source": [
    "correct_count, all_count = 0, 0\n",
    "for images, labels in test_loader:\n",
    "  for i in range(len(labels)):\n",
    "    img = images[i].view(1, 784)\n",
    "    # with torch.no_grad():\n",
    "    ps = model(img)\n",
    "\n",
    "    \n",
    "    # ps = torch.exp(logps)\n",
    "    probab = list(ps.detach().numpy()[0])\n",
    "    pred_label = probab.index(max(probab))\n",
    "    true_label = labels.numpy()[i]\n",
    "    if(true_label == pred_label):\n",
    "      correct_count += 1\n",
    "    all_count += 1\n",
    "\n",
    "print(\"Number Of Images Tested =\", all_count)\n",
    "print(\"Model Accuracy =\", (correct_count/all_count))"
   ]
  },
  {
   "cell_type": "markdown",
   "metadata": {},
   "source": [
    "#### Taking 4 samples from the test set \n",
    "- display the image\n",
    "- print the true label\n",
    "- print the output probability distribution\n",
    "- print the predicted class"
   ]
  },
  {
   "cell_type": "code",
   "execution_count": 16,
   "metadata": {},
   "outputs": [],
   "source": [
    "def view_classify(img, ps):\n",
    "    ''' Function for viewing an image and it's predicted classes.\n",
    "    '''\n",
    "    ps = ps.data.numpy().squeeze()\n",
    "\n",
    "    fig, (ax1, ax2) = plt.subplots(figsize=(6,9), ncols=2)\n",
    "    ax1.imshow(img.resize_(1, 28, 28).numpy().squeeze())\n",
    "    ax1.axis('off')\n",
    "    ax2.barh(np.arange(10), ps)\n",
    "    ax2.set_aspect(0.1)\n",
    "    ax2.set_yticks(np.arange(10))\n",
    "    ax2.set_yticklabels(np.arange(10))\n",
    "    ax2.set_title('Class Probability')\n",
    "    ax2.set_xlim(0, 1.1)\n",
    "    plt.tight_layout()"
   ]
  },
  {
   "cell_type": "code",
   "execution_count": 17,
   "metadata": {},
   "outputs": [
    {
     "name": "stdout",
     "output_type": "stream",
     "text": [
      "Predicted Digit = 4\n",
      "True Digit = 4\n",
      "Predicted Digit = 7\n",
      "True Digit = 7\n",
      "Predicted Digit = 9\n",
      "True Digit = 9\n",
      "Predicted Digit = 3\n",
      "True Digit = 3\n"
     ]
    },
    {
     "data": {
      "image/png": "[encoded data removed]",
      "text/plain": [
       "<Figure size 432x648 with 2 Axes>"
      ]
     },
     "metadata": {
      "needs_background": "light"
     },
     "output_type": "display_data"
    },
    {
     "data": {
      "image/png": "[encoded data removed]",
      "text/plain": [
       "<Figure size 432x648 with 2 Axes>"
      ]
     },
     "metadata": {
      "needs_background": "light"
     },
     "output_type": "display_data"
    },
    {
     "data": {
      "image/png": "[encoded data removed]",
      "text/plain": [
       "<Figure size 432x648 with 2 Axes>"
      ]
     },
     "metadata": {
      "needs_background": "light"
     },
     "output_type": "display_data"
    },
    {
     "data": {
      "image/png": "[encoded data removed]",
      "text/plain": [
       "<Figure size 432x648 with 2 Axes>"
      ]
     },
     "metadata": {
      "needs_background": "light"
     },
     "output_type": "display_data"
    }
   ],
   "source": [
    "for sample in range(4):\n",
    "    # Separate images and labels from validation set\n",
    "    images, labels = next(iter(test_loader))\n",
    "\n",
    "    # Flatten the 28x28 image\n",
    "    img = images[sample].view(1, 784)\n",
    "    \n",
    "    # Get probability for each class by putting img through the model\n",
    "    ps = model(img)\n",
    "\n",
    "    probab = list(ps.detach().numpy()[0])\n",
    "    print(\"Predicted Digit =\", probab.index(max(probab)))\n",
    "    print(\"True Digit =\", int(labels[sample]))\n",
    "    view_classify(img.view(1, 28, 28), ps)"
   ]
  },
  {
   "cell_type": "code",
   "execution_count": 18,
   "metadata": {},
   "outputs": [
    {
     "name": "stdout",
     "output_type": "stream",
     "text": [
      "Epoch [1/5], Step [100/600], Loss: 1.6541\n",
      "Epoch [1/5], Step [200/600], Loss: 1.5990\n",
      "Epoch [1/5], Step [300/600], Loss: 1.5690\n",
      "Epoch [1/5], Step [400/600], Loss: 1.6025\n",
      "Epoch [1/5], Step [500/600], Loss: 1.5502\n",
      "Epoch [1/5], Step [600/600], Loss: 1.5848\n",
      "Epoch [2/5], Step [100/600], Loss: 1.5276\n",
      "Epoch [2/5], Step [200/600], Loss: 1.5603\n",
      "Epoch [2/5], Step [300/600], Loss: 1.5227\n",
      "Epoch [2/5], Step [400/600], Loss: 1.5135\n",
      "Epoch [2/5], Step [500/600], Loss: 1.5799\n",
      "Epoch [2/5], Step [600/600], Loss: 1.5712\n",
      "Epoch [3/5], Step [100/600], Loss: 1.5350\n",
      "Epoch [3/5], Step [200/600], Loss: 1.5328\n",
      "Epoch [3/5], Step [300/600], Loss: 1.5683\n",
      "Epoch [3/5], Step [400/600], Loss: 1.5443\n",
      "Epoch [3/5], Step [500/600], Loss: 1.5252\n",
      "Epoch [3/5], Step [600/600], Loss: 1.5442\n",
      "Epoch [4/5], Step [100/600], Loss: 1.5083\n",
      "Epoch [4/5], Step [200/600], Loss: 1.5223\n",
      "Epoch [4/5], Step [300/600], Loss: 1.5308\n",
      "Epoch [4/5], Step [400/600], Loss: 1.5279\n",
      "Epoch [4/5], Step [500/600], Loss: 1.5270\n",
      "Epoch [4/5], Step [600/600], Loss: 1.5011\n",
      "Epoch [5/5], Step [100/600], Loss: 1.5116\n",
      "Epoch [5/5], Step [200/600], Loss: 1.5072\n",
      "Epoch [5/5], Step [300/600], Loss: 1.5002\n",
      "Epoch [5/5], Step [400/600], Loss: 1.5324\n",
      "Epoch [5/5], Step [500/600], Loss: 1.5112\n",
      "Epoch [5/5], Step [600/600], Loss: 1.5082\n"
     ]
    }
   ],
   "source": [
    "# Testing out different hyperparameter values\n",
    "# Dropout rate\n",
    "\n",
    "input_size = 784\n",
    "hidden_size = 500\n",
    "num_classes = 10\n",
    "num_epochs = 5\n",
    "batch_size = 100\n",
    "learning_rate = 0.001\n",
    "\n",
    "model = nn.Sequential(nn.Linear(input_size, hidden_size),\n",
    "                      nn.ReLU(),\n",
    "                      nn.Dropout(0.7),\n",
    "                      nn.Linear(hidden_size, num_classes),\n",
    "                      nn.Softmax(dim=1))\n",
    "\n",
    "criterion = nn.CrossEntropyLoss()\n",
    "optimizer = torch.optim.Adam(model.parameters(), lr=learning_rate) \n",
    "\n",
    "total_step = len(train_loader)\n",
    "loss_history = []\n",
    "\n",
    "for epoch in range(num_epochs):\n",
    "    for i, (images, labels) in enumerate(train_loader):  \n",
    "        # Reconfigure the images into a 1D vector (actually, (X,1) tensor)\n",
    "        images = images.view(images.shape[0], -1)\n",
    "        \n",
    "        # Forward pass\n",
    "        ### Comput the output and loss\n",
    "        outputs = model(images)\n",
    "        \n",
    "        loss = criterion(outputs, labels)\n",
    "        \n",
    "        # Append to loss history\n",
    "        loss_history.append(loss.item())\n",
    "        \n",
    "        # Backward and optimize\n",
    "        optimizer.zero_grad()\n",
    "        loss.backward()\n",
    "        optimizer.step()\n",
    "        \n",
    "        # display the progress\n",
    "        if (i+1) % 100 == 0:\n",
    "            print ('Epoch [{}/{}], Step [{}/{}], Loss: {:.4f}' .format(epoch+1, num_epochs, i+1, total_step, loss.item()))"
   ]
  },
  {
   "cell_type": "markdown",
   "metadata": {},
   "source": [
    "### Varying the dropout rate from 0 to 1 did not lead to much of a decrease in loss."
   ]
  },
  {
   "cell_type": "code",
   "execution_count": 19,
   "metadata": {},
   "outputs": [
    {
     "name": "stdout",
     "output_type": "stream",
     "text": [
      "Epoch [1/5], Step [100/600], Loss: 2.2997\n",
      "Epoch [1/5], Step [200/600], Loss: 2.2994\n",
      "Epoch [1/5], Step [300/600], Loss: 2.2912\n",
      "Epoch [1/5], Step [400/600], Loss: 2.2920\n",
      "Epoch [1/5], Step [500/600], Loss: 2.2868\n",
      "Epoch [1/5], Step [600/600], Loss: 2.2775\n",
      "Epoch [2/5], Step [100/600], Loss: 2.2597\n",
      "Epoch [2/5], Step [200/600], Loss: 2.2658\n",
      "Epoch [2/5], Step [300/600], Loss: 2.2569\n",
      "Epoch [2/5], Step [400/600], Loss: 2.2455\n",
      "Epoch [2/5], Step [500/600], Loss: 2.2254\n",
      "Epoch [2/5], Step [600/600], Loss: 2.2360\n",
      "Epoch [3/5], Step [100/600], Loss: 2.2106\n",
      "Epoch [3/5], Step [200/600], Loss: 2.1490\n",
      "Epoch [3/5], Step [300/600], Loss: 2.1646\n",
      "Epoch [3/5], Step [400/600], Loss: 2.1577\n",
      "Epoch [3/5], Step [500/600], Loss: 2.1184\n",
      "Epoch [3/5], Step [600/600], Loss: 2.1058\n",
      "Epoch [4/5], Step [100/600], Loss: 2.0955\n",
      "Epoch [4/5], Step [200/600], Loss: 2.0410\n",
      "Epoch [4/5], Step [300/600], Loss: 2.0276\n",
      "Epoch [4/5], Step [400/600], Loss: 2.0242\n",
      "Epoch [4/5], Step [500/600], Loss: 2.0319\n",
      "Epoch [4/5], Step [600/600], Loss: 1.9928\n",
      "Epoch [5/5], Step [100/600], Loss: 1.9209\n",
      "Epoch [5/5], Step [200/600], Loss: 1.9210\n",
      "Epoch [5/5], Step [300/600], Loss: 1.8957\n",
      "Epoch [5/5], Step [400/600], Loss: 1.9605\n",
      "Epoch [5/5], Step [500/600], Loss: 1.9453\n",
      "Epoch [5/5], Step [600/600], Loss: 1.8185\n"
     ]
    }
   ],
   "source": [
    "# Testing out different hyperparameter values\n",
    "# Switched optimizer to SGD and added momentum to speed up our loss reduction\n",
    "\n",
    "input_size = 784\n",
    "hidden_size = 500\n",
    "num_classes = 10\n",
    "num_epochs = 5\n",
    "batch_size = 100\n",
    "learning_rate = 0.001\n",
    "\n",
    "model = nn.Sequential(nn.Linear(input_size, hidden_size),\n",
    "                      nn.ReLU(),\n",
    "                      nn.Linear(hidden_size, num_classes),\n",
    "                      nn.Softmax(dim=1))\n",
    "\n",
    "criterion = nn.CrossEntropyLoss()\n",
    "optimizer = torch.optim.SGD(model.parameters(), lr=learning_rate, momentum=0.9) \n",
    "\n",
    "total_step = len(train_loader)\n",
    "loss_history = []\n",
    "\n",
    "for epoch in range(num_epochs):\n",
    "    for i, (images, labels) in enumerate(train_loader):  \n",
    "        # Reconfigure the images into a 1D vector (actually, (X,1) tensor)\n",
    "        images = images.view(images.shape[0], -1)\n",
    "        \n",
    "        # Forward pass\n",
    "        ### Comput the output and loss\n",
    "        outputs = model(images)\n",
    "        \n",
    "        loss = criterion(outputs, labels)\n",
    "        \n",
    "        # Append to loss history\n",
    "        loss_history.append(loss.item())\n",
    "        \n",
    "        # Backward and optimize\n",
    "        optimizer.zero_grad()\n",
    "        loss.backward()\n",
    "        optimizer.step()\n",
    "        \n",
    "        # display the progress\n",
    "        if (i+1) % 100 == 0:\n",
    "            print ('Epoch [{}/{}], Step [{}/{}], Loss: {:.4f}' .format(epoch+1, num_epochs, i+1, total_step, loss.item()))"
   ]
  },
  {
   "cell_type": "markdown",
   "metadata": {},
   "source": [
    "### Using SGD and momentum saw a decent decrease in loss. 2.3 -> 1.9"
   ]
  },
  {
   "cell_type": "markdown",
   "metadata": {},
   "source": [
    "\n",
    "\n"
   ]
  },
  {
   "cell_type": "code",
   "execution_count": 20,
   "metadata": {},
   "outputs": [
    {
     "name": "stdout",
     "output_type": "stream",
     "text": [
      "Epoch [1/5], Step [100/600], Loss: 1.8183\n",
      "Epoch [1/5], Step [200/600], Loss: 1.7800\n",
      "Epoch [1/5], Step [300/600], Loss: 1.7592\n",
      "Epoch [1/5], Step [400/600], Loss: 1.7095\n",
      "Epoch [1/5], Step [500/600], Loss: 1.7627\n",
      "Epoch [1/5], Step [600/600], Loss: 1.6701\n",
      "Epoch [2/5], Step [100/600], Loss: 1.7160\n",
      "Epoch [2/5], Step [200/600], Loss: 1.6600\n",
      "Epoch [2/5], Step [300/600], Loss: 1.6075\n",
      "Epoch [2/5], Step [400/600], Loss: 1.6216\n",
      "Epoch [2/5], Step [500/600], Loss: 1.6007\n",
      "Epoch [2/5], Step [600/600], Loss: 1.5930\n",
      "Epoch [3/5], Step [100/600], Loss: 1.6016\n",
      "Epoch [3/5], Step [200/600], Loss: 1.5832\n",
      "Epoch [3/5], Step [300/600], Loss: 1.5943\n",
      "Epoch [3/5], Step [400/600], Loss: 1.6216\n",
      "Epoch [3/5], Step [500/600], Loss: 1.6159\n",
      "Epoch [3/5], Step [600/600], Loss: 1.6168\n",
      "Epoch [4/5], Step [100/600], Loss: 1.6102\n",
      "Epoch [4/5], Step [200/600], Loss: 1.6670\n",
      "Epoch [4/5], Step [300/600], Loss: 1.6243\n",
      "Epoch [4/5], Step [400/600], Loss: 1.6296\n",
      "Epoch [4/5], Step [500/600], Loss: 1.6092\n",
      "Epoch [4/5], Step [600/600], Loss: 1.6171\n",
      "Epoch [5/5], Step [100/600], Loss: 1.6024\n",
      "Epoch [5/5], Step [200/600], Loss: 1.5706\n",
      "Epoch [5/5], Step [300/600], Loss: 1.6306\n",
      "Epoch [5/5], Step [400/600], Loss: 1.5584\n",
      "Epoch [5/5], Step [500/600], Loss: 1.6078\n",
      "Epoch [5/5], Step [600/600], Loss: 1.6229\n"
     ]
    }
   ],
   "source": [
    "# Testing out different hyperparameter values\n",
    "# Activation function changed to sigmoid, learning rate increased, adding L2 regularization\n",
    "\n",
    "input_size = 784\n",
    "hidden_size = 500\n",
    "num_classes = 10\n",
    "num_epochs = 5\n",
    "batch_size = 100\n",
    "learning_rate = 0.003\n",
    "\n",
    "model = nn.Sequential(nn.Linear(input_size, hidden_size),\n",
    "                      nn.Sigmoid(),\n",
    "                      nn.Linear(hidden_size, num_classes),\n",
    "                      nn.Softmax(dim=1))\n",
    "\n",
    "criterion = nn.CrossEntropyLoss()\n",
    "optimizer = torch.optim.Adam(model.parameters(), lr=learning_rate, weight_decay=0.001) \n",
    "\n",
    "total_step = len(train_loader)\n",
    "loss_history = []\n",
    "\n",
    "for epoch in range(num_epochs):\n",
    "    for i, (images, labels) in enumerate(train_loader):  \n",
    "        # Reconfigure the images into a 1D vector (actually, (X,1) tensor)\n",
    "        images = images.view(images.shape[0], -1)\n",
    "        \n",
    "        # Forward pass\n",
    "        ### Comput the output and loss\n",
    "        outputs = model(images)\n",
    "        \n",
    "        loss = criterion(outputs, labels)\n",
    "        \n",
    "        # Append to loss history\n",
    "        loss_history.append(loss.item())\n",
    "        \n",
    "        # Backward and optimize\n",
    "        optimizer.zero_grad()\n",
    "        loss.backward()\n",
    "        optimizer.step()\n",
    "        \n",
    "        # display the progress\n",
    "        if (i+1) % 100 == 0:\n",
    "            print ('Epoch [{}/{}], Step [{}/{}], Loss: {:.4f}' .format(epoch+1, num_epochs, i+1, total_step, loss.item()))"
   ]
  },
  {
   "cell_type": "markdown",
   "metadata": {},
   "source": [
    "### Using a higher learning rate and L2 regulartization led to an initial improved loss and slight decrease over each epoch. There does seem to be some loss oscillation happening as it increases and decreases"
   ]
  }
 ],
 "metadata": {
  "kernelspec": {
   "display_name": "Python 3",
   "language": "python",
   "name": "python3"
  },
  "language_info": {
   "codemirror_mode": {
    "name": "ipython",
    "version": 3
   },
   "file_extension": ".py",
   "mimetype": "text/x-python",
   "name": "python",
   "nbconvert_exporter": "python",
   "pygments_lexer": "ipython3",
   "version": "3.8.10"
  }
 },
 "nbformat": 4,
 "nbformat_minor": 4
}
